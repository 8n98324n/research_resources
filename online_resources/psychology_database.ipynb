{
 "cells": [
  {
   "cell_type": "markdown",
   "metadata": {},
   "source": [
    "\n",
    "- https://github.com/SALT-NLP/positive-frames\n",
    "\n",
    "    Positive Perspectives with Text Reframing"
   ]
  },
  {
   "cell_type": "markdown",
   "metadata": {},
   "source": [
    "# Dialog Database\n",
    "\n",
    "- https://as3eem.medium.com/5-must-know-mental-health-counseling-datasets-for-ai-research-dd1a1b9f30b4\n",
    "\n",
    "## SPARTA\n",
    "- This repository contains the code and dataset for our paper titled Speaker and Time-aware Joint Contextual Learning for Dialogue-act Classification in Counselling Conversations accepted at WSDM Conference, 2022.\n",
    "- https://github.com/LCS2-IIITD/SPARTA_WSDM2022/tree/main"
   ]
  }
 ],
 "metadata": {
  "language_info": {
   "name": "python"
  }
 },
 "nbformat": 4,
 "nbformat_minor": 2
}
