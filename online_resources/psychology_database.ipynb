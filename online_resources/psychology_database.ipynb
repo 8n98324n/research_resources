{
 "cells": [
  {
   "cell_type": "markdown",
   "metadata": {},
   "source": [
    "# Psychology\n",
    "\n",
    "### National Survey on Drug Use and Health 2021\n",
    "- https://www.kaggle.com/datasets/rahalkanishka/national-survey-on-drug-use-and-health-2021\n",
    "\n",
    "### National Health & Nutrition Exam Survey 2017-201\n",
    "- https://www.kaggle.com/datasets/rileyzurrin/national-health-and-nutrition-exam-survey-2017-2018\n",
    "\n",
    "### StudentLife\n",
    "- https://www.kaggle.com/datasets/dartweichen/student-life/data\n",
    "\n",
    "### Behavioral Risk Factor Surveillance System-2013\n",
    "- https://www.kaggle.com/datasets/nguyenngocphung/behavioral-risk-factor-surveillance-system2013\n",
    "- - Open Access\n",
    "\n",
    "### Behavioral Risk Factor Surveillance System\n",
    "- Public health surveys of 400k people from 2011-2015\n",
    "- https://www.kaggle.com/datasets/cdc/behavioral-risk-factor-surveillance-system/data\n",
    "\n",
    "### Reddit Mental Health Dataset (RMHD)\n",
    "- Mental Health Data Spanning Covid Era- Jan 2019-Aug 2022-Pre-Mid and Post Covid\n",
    "- https://www.kaggle.com/datasets/entenam/reddit-mental-health-dataset\n",
    "\n",
    "### HappyDB\n",
    "- A corpus of 100,000+ crowd-sourced happy moments\n",
    "- https://github.com/megagonlabs/HappyDB"
   ]
  },
  {
   "cell_type": "markdown",
   "metadata": {},
   "source": [
    "# Text Analysis\n",
    "\n",
    "### Covid 19 Twitter\n",
    "- Global COVID-19 Twitter dataset\n",
    "- https://www.kaggle.com/datasets/rohitashchandra/global-covid19-twitter-dataset/data\n",
    "- Emailing required\n",
    "\n",
    "### Cognitive Distortions\n",
    "- https://papers.ssrn.com/sol3/papers.cfm?abstract_id=4582307\n",
    "\n",
    "### Positive Reframing\n",
    "- https://github.com/SALT-NLP/positive-frames\n",
    "\n",
    "    Positive Perspectives with Text Reframing\n",
    "\n",
    "###  Dataset and code for fair psychometric NLP\n",
    "- https://github.com/nd-hal/fair-psych-nlp\n",
    "- Open\n",
    "\n",
    "## 非问卷自评式：\n",
    "\n",
    "### eRisk2018：抑郁组和非抑郁组社交媒体文本数据集。抑郁组是通过搜索与诊断相关的明确表达（如 \"被诊断为抑郁症\"），并对检索到的帖子进行手动检查，从而获得抑郁阳性用户组。对照组则通过从大量社交媒体用户中进行随机抽样获得。\n",
    "- 作者：Losada, D. E., Crestani, F., & Parapar, J. (2018). Overview of eRisk: early risk prediction on the internet. In Experimental IR Meets Multilinguality, Multimodality, and Interaction: 9th International Conference of the CLEF Association, CLEF 2018, Avignon, - France, September 10-14, 2018, Proceedings 9 (pp. 343-361). Springer International Publishing.\n",
    "\n",
    "### MDDL: 自评式非量表数据集。来自twitter，抑郁和非抑郁数据集，300+引用。如果用户的推文满足严格的\"（我/我曾经/我现在/我已经）被诊断为抑郁症 \"模式，则将其标记为抑郁症。通过这种方法，我们在一个月内获得了 1,402 名抑郁用户和 292,564 条推文。推文中从未包含“抑郁”内容的，则被分为非抑郁组。\n",
    "- 作者：Shen, G., Jia, J., Nie, L., Feng, F., Zhang, C., Hu, T., ... & Zhu, W. (2017, August). Depression detection via harvesting - social media: A multimodal dictionary learning solution. In IJCAI (pp. 3838-3844).\n",
    "\n",
    "## 问卷自评式：\n",
    "### eRisk2019: T3:抑郁症的早期风险监测。包括被试自我填写的贝克抑郁量表（BDI）和Reddit社交媒体文本历史。\n",
    "- 作者：Losada, D. E., Crestani, F., & Parapar, J. (2019). Overview of erisk 2019 early risk prediction on the internet. In Experimental IR Meets Multilinguality, Multimodality, and Interaction: 10th International Conference of the CLEF Association, CLEF 2019, Lugano, Switzerland, September 9–12, 2019, Proceedings 10 (pp. 340-357). Springer International Publishing.\n",
    "\n",
    "### eRisk2020: T2:抑郁症的早期风险监测,是eRisk2019的拓展。包括被试自我填写的贝克抑郁量表（BDI）和Reddit社交媒体文本历史。\n",
    "- 作者：Losada, D. E., Crestani, F., & Parapar, J. (2020, 2020/1/1). Overview of eRisk 2020: Early Risk Prediction on the Internet. Paper presented at the, Cham.\n",
    "### PRIMATE：包括填写PHQ-9问卷及其在社交媒体Reddit上的文本数据集。\n",
    "- 作者：Shrey Gupta, Anmol Agarwal, Manas Gaur, Kaushik Roy, Vignesh Narayanan, Ponnurangam Kumaraguru, and Amit Sheth. 2022. Learning to Automate Follow-up Question Generation using Process Knowledge for Depression Triage on Reddit Posts. In Proceedings of the Eighth Workshop on Computational Linguistics and Clinical Psychology, pages 137–147, Seattle, USA. Association for Computational Linguistics.\n"
   ]
  },
  {
   "cell_type": "markdown",
   "metadata": {},
   "source": [
    "# Dialog Database\n",
    "\n",
    "- https://as3eem.medium.com/5-must-know-mental-health-counseling-datasets-for-ai-research-dd1a1b9f30b4\n",
    "\n",
    "### SPARTA\n",
    "- This repository contains the code and dataset for our paper titled Speaker and Time-aware Joint Contextual Learning for Dialogue-act Classification in Counselling Conversations accepted at WSDM Conference, 2022.\n",
    "- https://github.com/LCS2-IIITD/SPARTA_WSDM2022/tree/main\n",
    "- Request Required"
   ]
  },
  {
   "cell_type": "markdown",
   "metadata": {},
   "source": [
    "# Physiological\n",
    "\n",
    "### CPED: A Chinese Positive Emotion Database for Emotion Elicitation and Analysis\n",
    "- https://ieeexplore.ieee.org/abstract/document/9453134\n"
   ]
  },
  {
   "cell_type": "markdown",
   "metadata": {},
   "source": [
    "# Repository\n",
    "\n",
    "- https://github.com/kharrigian/mental-health-datasets"
   ]
  }
 ],
 "metadata": {
  "language_info": {
   "name": "python"
  }
 },
 "nbformat": 4,
 "nbformat_minor": 2
}
