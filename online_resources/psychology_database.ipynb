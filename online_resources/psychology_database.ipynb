{
 "cells": [
  {
   "cell_type": "markdown",
   "metadata": {},
   "source": [
    "# Psychology\n",
    "\n",
    "### National Survey on Drug Use and Health 2021\n",
    "- https://www.kaggle.com/datasets/rahalkanishka/national-survey-on-drug-use-and-health-2021\n",
    "\n",
    "### National Health & Nutrition Exam Survey 2017-201\n",
    "- https://www.kaggle.com/datasets/rileyzurrin/national-health-and-nutrition-exam-survey-2017-2018\n",
    "\n",
    "### StudentLife\n",
    "- https://www.kaggle.com/datasets/dartweichen/student-life/data\n",
    "\n",
    "### Behavioral Risk Factor Surveillance System\n",
    "- Public health surveys of 400k people from 2011-2015\n",
    "- https://www.kaggle.com/datasets/cdc/behavioral-risk-factor-surveillance-system/data\n",
    "\n",
    "### Reddit Mental Health Dataset (RMHD)\n",
    "- Mental Health Data Spanning Covid Era- Jan 2019-Aug 2022-Pre-Mid and Post Covid\n",
    "- https://www.kaggle.com/datasets/entenam/reddit-mental-health-dataset"
   ]
  },
  {
   "cell_type": "markdown",
   "metadata": {},
   "source": [
    "# Text Analysis\n",
    "\n",
    "### Covid 19 Twitter\n",
    "- Global COVID-19 Twitter dataset\n",
    "- https://www.kaggle.com/datasets/rohitashchandra/global-covid19-twitter-dataset/data\n",
    "- Emailing required\n",
    "\n",
    "### Cognitive Distortions\n",
    "- https://papers.ssrn.com/sol3/papers.cfm?abstract_id=4582307\n",
    "\n",
    "### Positive Reframing\n",
    "- https://github.com/SALT-NLP/positive-frames\n",
    "\n",
    "    Positive Perspectives with Text Reframing\n",
    "\n",
    "###  Dataset and code for fair psychometric NLP\n",
    "- https://github.com/nd-hal/fair-psych-nlp\n",
    "- Open"
   ]
  },
  {
   "cell_type": "markdown",
   "metadata": {},
   "source": [
    "# Dialog Database\n",
    "\n",
    "- https://as3eem.medium.com/5-must-know-mental-health-counseling-datasets-for-ai-research-dd1a1b9f30b4\n",
    "\n",
    "### SPARTA\n",
    "- This repository contains the code and dataset for our paper titled Speaker and Time-aware Joint Contextual Learning for Dialogue-act Classification in Counselling Conversations accepted at WSDM Conference, 2022.\n",
    "- https://github.com/LCS2-IIITD/SPARTA_WSDM2022/tree/main\n",
    "- Request Required"
   ]
  }
 ],
 "metadata": {
  "language_info": {
   "name": "python"
  }
 },
 "nbformat": 4,
 "nbformat_minor": 2
}
