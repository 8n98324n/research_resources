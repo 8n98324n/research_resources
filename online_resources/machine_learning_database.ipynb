{
 "cells": [
  {
   "cell_type": "markdown",
   "metadata": {},
   "source": [
    "# NLP SubjQA: Question Answering Dataset\n",
    "https://www.kaggle.com/datasets/arashnic/subjqa-question-answering-dataset"
   ]
  }
 ],
 "metadata": {
  "language_info": {
   "name": "python"
  }
 },
 "nbformat": 4,
 "nbformat_minor": 2
}
